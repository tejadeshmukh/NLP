{
 "cells": [
  {
   "cell_type": "code",
   "execution_count": 26,
   "id": "9685bb4a",
   "metadata": {},
   "outputs": [],
   "source": [
    "#importing regex module to use regular expressions\n",
    "import re"
   ]
  },
  {
   "cell_type": "code",
   "execution_count": 27,
   "id": "bc8d8d22",
   "metadata": {},
   "outputs": [],
   "source": [
    "#info: this script extracts phone numbers and email addresses from chat messages\n",
    "chat1 = 'codebasics: you ask lot of questions 😠  1235678912, abc@xyz.com'\n",
    "chat2 = 'codebasics: here it is: (123)-567-8912, abc@xyz.com'\n",
    "chat3 = 'codebasics: yes, phone: 1235678912 email: abc@xyz.com'"
   ]
  },
  {
   "cell_type": "code",
   "execution_count": 29,
   "id": "f0dce5d2",
   "metadata": {},
   "outputs": [
    {
     "name": "stdout",
     "output_type": "stream",
     "text": [
      "['1235678912']\n"
     ]
    }
   ],
   "source": [
    "# pattern  to extract phone numbers  from a chat message\n",
    "pattern = \"\\\\d{10}|\\\\(\\\\d{3}\\\\)-\\\\d{3}-\\\\d{4}\"\n",
    "mathces = re.findall(pattern, chat3)\n",
    "print(mathces)"
   ]
  },
  {
   "cell_type": "code",
   "execution_count": 30,
   "id": "cf7c385b",
   "metadata": {},
   "outputs": [
    {
     "name": "stdout",
     "output_type": "stream",
     "text": [
      "['abc@xyz.com']\n"
     ]
    }
   ],
   "source": [
    "# pattern to extract email addresses from a chat message\n",
    "pattern_mail = '[a-z0-9A-Z_]*@[a-z]*\\\\.[a-z]*'\n",
    "matches_mail = re.findall(pattern_mail, chat3)\n",
    "print(matches_mail)"
   ]
  },
  {
   "cell_type": "code",
   "execution_count": 32,
   "id": "32e36e4d",
   "metadata": {},
   "outputs": [],
   "source": [
    "chat21='codebasics: Hello, I am having an issue with my order # 412889912'\n",
    "chat22='codebasics: I have a problem with my order number 412889912'\n",
    "chat23='codebasics: My order 412889912 is having an issue, I was charged 300$ when online it says 280$'"
   ]
  },
  {
   "cell_type": "code",
   "execution_count": 36,
   "id": "24e5780d",
   "metadata": {},
   "outputs": [
    {
     "name": "stdout",
     "output_type": "stream",
     "text": [
      "['412889912']\n"
     ]
    }
   ],
   "source": [
    "pattern_order = 'order[^\\\\d]*(\\\\d*)'\n",
    "matches_order = re.findall(pattern_order, chat22)\n",
    "print(matches_order)"
   ]
  },
  {
   "cell_type": "code",
   "execution_count": 37,
   "id": "c91ed4d2",
   "metadata": {},
   "outputs": [],
   "source": [
    "text='''\n",
    "Born\tElon Reeve Musk\n",
    "June 28, 1971 (age 50)\n",
    "Pretoria, Transvaal, South Africa\n",
    "Citizenship\t\n",
    "South Africa (1971–present)\n",
    "Canada (1971–present)\n",
    "United States (2002–present)\n",
    "Education\tUniversity of Pennsylvania (BS, BA)\n",
    "Title\t\n",
    "Founder, CEO and Chief Engineer of SpaceX\n",
    "CEO and product architect of Tesla, Inc.\n",
    "Founder of The Boring Company and X.com (now part of PayPal)\n",
    "Co-founder of Neuralink, OpenAI, and Zip2\n",
    "Spouse(s)\t\n",
    "Justine Wilson\n",
    "​\n",
    "​(m. 2000; div. 2008)​\n",
    "Talulah Riley\n",
    "​\n",
    "​(m. 2010; div. 2012)​\n",
    "​\n",
    "​(m. 2013; div. 2016)\n",
    "'''"
   ]
  },
  {
   "cell_type": "code",
   "execution_count": 44,
   "id": "e9bdb46c",
   "metadata": {},
   "outputs": [
    {
     "name": "stdout",
     "output_type": "stream",
     "text": [
      "['50']\n"
     ]
    }
   ],
   "source": [
    "#pattern to extract age from the text\n",
    "pattern_age = 'age (\\\\d+)'\n",
    "matches_age = re.findall(pattern_age, text)\n",
    "print(matches_age)"
   ]
  },
  {
   "cell_type": "code",
   "execution_count": 45,
   "id": "1057e4dd",
   "metadata": {},
   "outputs": [
    {
     "name": "stdout",
     "output_type": "stream",
     "text": [
      "Elon Reeve Musk\n"
     ]
    }
   ],
   "source": [
    "#pattern to extract name from the text\n",
    "pattern_name = 'Born(.*)'\n",
    "matches_name = re.findall(pattern_name, text)   \n",
    "print(matches_name[0].strip())"
   ]
  },
  {
   "cell_type": "code",
   "execution_count": 48,
   "id": "3b1081c9",
   "metadata": {},
   "outputs": [
    {
     "name": "stdout",
     "output_type": "stream",
     "text": [
      "June 28, 1971\n"
     ]
    }
   ],
   "source": [
    "#pattern to extract birth date from the text\n",
    "pattern_birth = 'Born.*\\\\n(.*)\\\\(age'\n",
    "matches_birth = re.findall(pattern_birth, text)\n",
    "print(matches_birth[0].strip())"
   ]
  },
  {
   "cell_type": "code",
   "execution_count": 50,
   "id": "1c8af40a",
   "metadata": {},
   "outputs": [
    {
     "name": "stdout",
     "output_type": "stream",
     "text": [
      "Pretoria, Transvaal, South Africa\n"
     ]
    }
   ],
   "source": [
    "# pattern to extract birth place from the text\n",
    "pattern_birth_place = 'age.*\\n(.*)'\n",
    "matches_birth_place = re.findall(pattern_birth_place, text)\n",
    "print(matches_birth_place[0].strip())"
   ]
  },
  {
   "cell_type": "code",
   "execution_count": 52,
   "id": "4067249c",
   "metadata": {},
   "outputs": [],
   "source": [
    "#fn to extract all the information from the text\n",
    "def get_pattern_match(pattern , text):\n",
    "    matches = re.findall(pattern, text)\n",
    "    if matches:\n",
    "        return matches[0].strip()\n",
    "    return None"
   ]
  },
  {
   "cell_type": "code",
   "execution_count": 53,
   "id": "ebf30485",
   "metadata": {},
   "outputs": [
    {
     "name": "stdout",
     "output_type": "stream",
     "text": [
      "Name: Elon Reeve Musk\n",
      "Age: 50\n",
      "Birth Date: June 28, 1971\n",
      "Birth Place: Pretoria, Transvaal, South Africa\n"
     ]
    }
   ],
   "source": [
    "name = get_pattern_match('Born(.*)', text)\n",
    "age = get_pattern_match('age (\\\\d+)', text) \n",
    "birth_date = get_pattern_match('Born.*\\\\n(.*)\\\\(age', text)\n",
    "birth_place = get_pattern_match('age.*\\n(.*)', text)\n",
    "print(f\"Name: {name}\")\n",
    "print(f\"Age: {age}\")    \n",
    "print(f\"Birth Date: {birth_date}\")\n",
    "print(f\"Birth Place: {birth_place}\")"
   ]
  },
  {
   "cell_type": "code",
   "execution_count": 57,
   "id": "f2fe4c00",
   "metadata": {},
   "outputs": [],
   "source": [
    "#exercice: extract twitter handles from the text\n",
    "twitter_text = '''\n",
    "Follow our leader Elon musk on twitter here: https://twitter.com/elonmusk, more information \n",
    "on Tesla's products can be found at https://www.tesla.com/. Also here are leading influencers \n",
    "for tesla related news,\n",
    "https://twitter.com/teslarati\n",
    "https://twitter.com/dummy_tesla\n",
    "https://twitter.com/dummy_2_tesla\n",
    "'''"
   ]
  },
  {
   "cell_type": "code",
   "execution_count": 58,
   "id": "ac472660",
   "metadata": {},
   "outputs": [
    {
     "name": "stdout",
     "output_type": "stream",
     "text": [
      "['elonmusk', '', 'teslarati', 'dummy_tesla', 'dummy_2_tesla']\n"
     ]
    }
   ],
   "source": [
    "twitter_pattern = 'https.*\\\\/([a-z_0-9A-Z]*)'\n",
    "matches_twitter = re.findall(twitter_pattern, twitter_text)\n",
    "print(matches_twitter)"
   ]
  },
  {
   "cell_type": "code",
   "execution_count": 60,
   "id": "59800548",
   "metadata": {},
   "outputs": [],
   "source": [
    "Risk_text = '''\n",
    "Concentration of Risk: Credit Risk\n",
    "Financial instruments that potentially subject us to a concentration of credit risk consist of cash, cash equivalents, marketable securities,\n",
    "restricted cash, accounts receivable, convertible note hedges, and interest rate swaps. Our cash balances are primarily invested in money market funds\n",
    "or on deposit at high credit quality financial institutions in the U.S. These deposits are typically in excess of insured limits. As of September 30, 2021\n",
    "and December 31, 2020, no entity represented 10% or more of our total accounts receivable balance. The risk of concentration for our convertible note\n",
    "hedges and interest rate swaps is mitigated by transacting with several highly-rated multinational banks.\n",
    "Concentration of Risk: Supply Risk\n",
    "We are dependent on our suppliers, including single source suppliers, and the inability of these suppliers to deliver necessary components of our\n",
    "products in a timely manner at prices, quality levels and volumes acceptable to us, or our inability to efficiently manage these components from these\n",
    "suppliers, could have a material adverse effect on our business, prospects, financial condition and operating results.\n",
    "'''"
   ]
  },
  {
   "cell_type": "code",
   "execution_count": 61,
   "id": "aac0986d",
   "metadata": {},
   "outputs": [
    {
     "name": "stdout",
     "output_type": "stream",
     "text": [
      "['Credit Risk', 'Supply Risk']\n"
     ]
    }
   ],
   "source": [
    "# Extracting the risk type and description\n",
    "risk_pattern = 'Concentration of Risk: ([a-zA-Z ]*)'\n",
    "matches_risk = re.findall(risk_pattern, Risk_text)\n",
    "print(matches_risk)\n"
   ]
  },
  {
   "cell_type": "code",
   "execution_count": 62,
   "id": "04290f41",
   "metadata": {},
   "outputs": [],
   "source": [
    "tesla_text = '''\n",
    "Tesla's gross cost of operating lease vehicles in FY2021 Q1 was $4.85 billion.\n",
    "BMW's gross cost of operating vehicles in FY2021 S1 was $8 billion.\n",
    "'''"
   ]
  },
  {
   "cell_type": "code",
   "execution_count": 64,
   "id": "e68224a7",
   "metadata": {},
   "outputs": [
    {
     "name": "stdout",
     "output_type": "stream",
     "text": [
      "[('$4.85 billion.', ''), ('', '$8 billion.')]\n"
     ]
    }
   ],
   "source": [
    "tesla_pattern = 'Q1 [a-z]* (.*)|S1 [a-z]* (.*)'\n",
    "matches_tesla = re.findall(tesla_pattern, tesla_text)\n",
    "print(matches_tesla)"
   ]
  }
 ],
 "metadata": {
  "kernelspec": {
   "display_name": "Python 3",
   "language": "python",
   "name": "python3"
  },
  "language_info": {
   "codemirror_mode": {
    "name": "ipython",
    "version": 3
   },
   "file_extension": ".py",
   "mimetype": "text/x-python",
   "name": "python",
   "nbconvert_exporter": "python",
   "pygments_lexer": "ipython3",
   "version": "3.13.2"
  }
 },
 "nbformat": 4,
 "nbformat_minor": 5
}
