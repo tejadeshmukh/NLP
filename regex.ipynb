{
 "cells": [
  {
   "cell_type": "code",
   "execution_count": 26,
   "id": "9685bb4a",
   "metadata": {},
   "outputs": [],
   "source": [
    "#importing regex module to use regular expressions\n",
    "import re"
   ]
  },
  {
   "cell_type": "code",
   "execution_count": 27,
   "id": "bc8d8d22",
   "metadata": {},
   "outputs": [],
   "source": [
    "#info: this script extracts phone numbers and email addresses from chat messages\n",
    "chat1 = 'codebasics: you ask lot of questions 😠  1235678912, abc@xyz.com'\n",
    "chat2 = 'codebasics: here it is: (123)-567-8912, abc@xyz.com'\n",
    "chat3 = 'codebasics: yes, phone: 1235678912 email: abc@xyz.com'"
   ]
  },
  {
   "cell_type": "code",
   "execution_count": 29,
   "id": "f0dce5d2",
   "metadata": {},
   "outputs": [
    {
     "name": "stdout",
     "output_type": "stream",
     "text": [
      "['1235678912']\n"
     ]
    }
   ],
   "source": [
    "# pattern  to extract phone numbers  from a chat message\n",
    "pattern = \"\\\\d{10}|\\\\(\\\\d{3}\\\\)-\\\\d{3}-\\\\d{4}\"\n",
    "mathces = re.findall(pattern, chat3)\n",
    "print(mathces)"
   ]
  },
  {
   "cell_type": "code",
   "execution_count": 30,
   "id": "cf7c385b",
   "metadata": {},
   "outputs": [
    {
     "name": "stdout",
     "output_type": "stream",
     "text": [
      "['abc@xyz.com']\n"
     ]
    }
   ],
   "source": [
    "# pattern to extract email addresses from a chat message\n",
    "pattern_mail = '[a-z0-9A-Z_]*@[a-z]*\\\\.[a-z]*'\n",
    "matches_mail = re.findall(pattern_mail, chat3)\n",
    "print(matches_mail)"
   ]
  },
  {
   "cell_type": "code",
   "execution_count": 32,
   "id": "32e36e4d",
   "metadata": {},
   "outputs": [],
   "source": [
    "chat21='codebasics: Hello, I am having an issue with my order # 412889912'\n",
    "chat22='codebasics: I have a problem with my order number 412889912'\n",
    "chat23='codebasics: My order 412889912 is having an issue, I was charged 300$ when online it says 280$'"
   ]
  },
  {
   "cell_type": "code",
   "execution_count": 36,
   "id": "24e5780d",
   "metadata": {},
   "outputs": [
    {
     "name": "stdout",
     "output_type": "stream",
     "text": [
      "['412889912']\n"
     ]
    }
   ],
   "source": [
    "pattern_order = 'order[^\\\\d]*(\\\\d*)'\n",
    "matches_order = re.findall(pattern_order, chat22)\n",
    "print(matches_order)"
   ]
  },
  {
   "cell_type": "code",
   "execution_count": 37,
   "id": "c91ed4d2",
   "metadata": {},
   "outputs": [],
   "source": [
    "text='''\n",
    "Born\tElon Reeve Musk\n",
    "June 28, 1971 (age 50)\n",
    "Pretoria, Transvaal, South Africa\n",
    "Citizenship\t\n",
    "South Africa (1971–present)\n",
    "Canada (1971–present)\n",
    "United States (2002–present)\n",
    "Education\tUniversity of Pennsylvania (BS, BA)\n",
    "Title\t\n",
    "Founder, CEO and Chief Engineer of SpaceX\n",
    "CEO and product architect of Tesla, Inc.\n",
    "Founder of The Boring Company and X.com (now part of PayPal)\n",
    "Co-founder of Neuralink, OpenAI, and Zip2\n",
    "Spouse(s)\t\n",
    "Justine Wilson\n",
    "​\n",
    "​(m. 2000; div. 2008)​\n",
    "Talulah Riley\n",
    "​\n",
    "​(m. 2010; div. 2012)​\n",
    "​\n",
    "​(m. 2013; div. 2016)\n",
    "'''"
   ]
  },
  {
   "cell_type": "code",
   "execution_count": 44,
   "id": "e9bdb46c",
   "metadata": {},
   "outputs": [
    {
     "name": "stdout",
     "output_type": "stream",
     "text": [
      "['50']\n"
     ]
    }
   ],
   "source": [
    "#pattern to extract age from the text\n",
    "pattern_age = 'age (\\\\d+)'\n",
    "matches_age = re.findall(pattern_age, text)\n",
    "print(matches_age)"
   ]
  },
  {
   "cell_type": "code",
   "execution_count": 45,
   "id": "1057e4dd",
   "metadata": {},
   "outputs": [
    {
     "name": "stdout",
     "output_type": "stream",
     "text": [
      "Elon Reeve Musk\n"
     ]
    }
   ],
   "source": [
    "#pattern to extract name from the text\n",
    "pattern_name = 'Born(.*)'\n",
    "matches_name = re.findall(pattern_name, text)   \n",
    "print(matches_name[0].strip())"
   ]
  },
  {
   "cell_type": "code",
   "execution_count": 48,
   "id": "3b1081c9",
   "metadata": {},
   "outputs": [
    {
     "name": "stdout",
     "output_type": "stream",
     "text": [
      "June 28, 1971\n"
     ]
    }
   ],
   "source": [
    "#pattern to extract birth date from the text\n",
    "pattern_birth = 'Born.*\\\\n(.*)\\\\(age'\n",
    "matches_birth = re.findall(pattern_birth, text)\n",
    "print(matches_birth[0].strip())"
   ]
  },
  {
   "cell_type": "code",
   "execution_count": 50,
   "id": "1c8af40a",
   "metadata": {},
   "outputs": [
    {
     "name": "stdout",
     "output_type": "stream",
     "text": [
      "Pretoria, Transvaal, South Africa\n"
     ]
    }
   ],
   "source": [
    "# pattern to extract birth place from the text\n",
    "pattern_birth_place = 'age.*\\n(.*)'\n",
    "matches_birth_place = re.findall(pattern_birth_place, text)\n",
    "print(matches_birth_place[0].strip())"
   ]
  },
  {
   "cell_type": "code",
   "execution_count": 52,
   "id": "4067249c",
   "metadata": {},
   "outputs": [],
   "source": [
    "#fn to extract all the information from the text\n",
    "def get_pattern_match(pattern , text):\n",
    "    matches = re.findall(pattern, text)\n",
    "    if matches:\n",
    "        return matches[0].strip()\n",
    "    return None"
   ]
  },
  {
   "cell_type": "code",
   "execution_count": 53,
   "id": "ebf30485",
   "metadata": {},
   "outputs": [
    {
     "name": "stdout",
     "output_type": "stream",
     "text": [
      "Name: Elon Reeve Musk\n",
      "Age: 50\n",
      "Birth Date: June 28, 1971\n",
      "Birth Place: Pretoria, Transvaal, South Africa\n"
     ]
    }
   ],
   "source": [
    "name = get_pattern_match('Born(.*)', text)\n",
    "age = get_pattern_match('age (\\\\d+)', text) \n",
    "birth_date = get_pattern_match('Born.*\\\\n(.*)\\\\(age', text)\n",
    "birth_place = get_pattern_match('age.*\\n(.*)', text)\n",
    "print(f\"Name: {name}\")\n",
    "print(f\"Age: {age}\")    \n",
    "print(f\"Birth Date: {birth_date}\")\n",
    "print(f\"Birth Place: {birth_place}\")"
   ]
  },
  {
   "cell_type": "code",
   "execution_count": null,
   "id": "f2fe4c00",
   "metadata": {},
   "outputs": [],
   "source": []
  }
 ],
 "metadata": {
  "kernelspec": {
   "display_name": "Python 3",
   "language": "python",
   "name": "python3"
  },
  "language_info": {
   "codemirror_mode": {
    "name": "ipython",
    "version": 3
   },
   "file_extension": ".py",
   "mimetype": "text/x-python",
   "name": "python",
   "nbconvert_exporter": "python",
   "pygments_lexer": "ipython3",
   "version": "3.13.2"
  }
 },
 "nbformat": 4,
 "nbformat_minor": 5
}
